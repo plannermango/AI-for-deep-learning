{
  "cells": [
    {
      "cell_type": "markdown",
      "metadata": {
        "id": "view-in-github",
        "colab_type": "text"
      },
      "source": [
        "<a href=\"https://colab.research.google.com/github/plannermango/AI-for-deep-learning/blob/main/chapter05_fundamentals_of_ml_i.ipynb\" target=\"_parent\"><img src=\"https://colab.research.google.com/assets/colab-badge.svg\" alt=\"Open In Colab\"/></a>"
      ]
    },
    {
      "cell_type": "markdown",
      "metadata": {
        "id": "OXIVgp9EhWDJ"
      },
      "source": [
        "This is a companion notebook for the book [Deep Learning with Python, Second Edition](https://www.manning.com/books/deep-learning-with-python-second-edition?a_aid=keras&a_bid=76564dff). For readability, it only contains runnable code blocks and section titles, and omits everything else in the book: text paragraphs, figures, and pseudocode.\n",
        "\n",
        "**If you want to be able to follow what's going on, I recommend reading the notebook side by side with your copy of the book.**\n",
        "\n",
        "This notebook was generated for TensorFlow 2.6."
      ]
    },
    {
      "cell_type": "markdown",
      "metadata": {
        "id": "nlG6DWqyhWDR"
      },
      "source": [
        "# Fundamentals of machine learning"
      ]
    },
    {
      "cell_type": "markdown",
      "metadata": {
        "id": "c2OeOLjuhWDR"
      },
      "source": [
        "## Generalization: The goal of machine learning"
      ]
    },
    {
      "cell_type": "markdown",
      "metadata": {
        "id": "eRpHoi9chWDS"
      },
      "source": [
        "### Underfitting and overfitting"
      ]
    },
    {
      "cell_type": "markdown",
      "metadata": {
        "id": "oWSb-DAKhWDS"
      },
      "source": [
        "#### Noisy training data"
      ]
    },
    {
      "cell_type": "markdown",
      "metadata": {
        "id": "Ju8gvZofhWDS"
      },
      "source": [
        "#### Ambiguous features"
      ]
    },
    {
      "cell_type": "markdown",
      "metadata": {
        "id": "Ji-8k6wGhWDT"
      },
      "source": [
        "#### Rare features and spurious correlations"
      ]
    },
    {
      "cell_type": "markdown",
      "metadata": {
        "id": "ao-pegDIhWDU"
      },
      "source": [
        "**Adding white-noise channels or all-zeros channels to MNIST**"
      ]
    },
    {
      "cell_type": "code",
      "execution_count": 1,
      "metadata": {
        "id": "gHWzjC9uhWDU",
        "colab": {
          "base_uri": "https://localhost:8080/"
        },
        "outputId": "26d19399-0c74-4580-a8d2-93c30e5bc601"
      },
      "outputs": [
        {
          "output_type": "stream",
          "name": "stdout",
          "text": [
            "Downloading data from https://storage.googleapis.com/tensorflow/tf-keras-datasets/mnist.npz\n",
            "11493376/11490434 [==============================] - 0s 0us/step\n",
            "11501568/11490434 [==============================] - 0s 0us/step\n"
          ]
        }
      ],
      "source": [
        "from tensorflow.keras.datasets import mnist\n",
        "import numpy as np\n",
        "\n",
        "(train_images, train_labels), _ = mnist.load_data()\n",
        "train_images = train_images.reshape((60000, 28 * 28))\n",
        "train_images = train_images.astype(\"float32\") / 255\n",
        "\n",
        "train_images_with_noise_channels = np.concatenate(\n",
        "    [train_images, np.random.random((len(train_images), 784))], axis=1)\n",
        "\n",
        "train_images_with_zeros_channels = np.concatenate(\n",
        "    [train_images, np.zeros((len(train_images), 784))], axis=1)"
      ]
    },
    {
      "cell_type": "markdown",
      "metadata": {
        "id": "YSt60UzihWDW"
      },
      "source": [
        "**Training the same model on MNIST data with noise channels or all-zero channels**"
      ]
    },
    {
      "cell_type": "code",
      "execution_count": 2,
      "metadata": {
        "id": "m-8Pi2yOhWDX",
        "colab": {
          "base_uri": "https://localhost:8080/"
        },
        "outputId": "09b5f5c8-ce12-4587-e0ef-36744fd7a22d"
      },
      "outputs": [
        {
          "output_type": "stream",
          "name": "stdout",
          "text": [
            "Epoch 1/10\n",
            "375/375 [==============================] - 6s 4ms/step - loss: 0.6123 - accuracy: 0.8135 - val_loss: 0.2505 - val_accuracy: 0.9259\n",
            "Epoch 2/10\n",
            "375/375 [==============================] - 1s 4ms/step - loss: 0.2445 - accuracy: 0.9252 - val_loss: 0.2013 - val_accuracy: 0.9348\n",
            "Epoch 3/10\n",
            "375/375 [==============================] - 1s 4ms/step - loss: 0.1611 - accuracy: 0.9503 - val_loss: 0.1437 - val_accuracy: 0.9578\n",
            "Epoch 4/10\n",
            "375/375 [==============================] - 1s 3ms/step - loss: 0.1133 - accuracy: 0.9641 - val_loss: 0.1456 - val_accuracy: 0.9568\n",
            "Epoch 5/10\n",
            "375/375 [==============================] - 1s 4ms/step - loss: 0.0828 - accuracy: 0.9738 - val_loss: 0.1289 - val_accuracy: 0.9649\n",
            "Epoch 6/10\n",
            "375/375 [==============================] - 1s 4ms/step - loss: 0.0599 - accuracy: 0.9812 - val_loss: 0.1223 - val_accuracy: 0.9668\n",
            "Epoch 7/10\n",
            "375/375 [==============================] - 1s 4ms/step - loss: 0.0462 - accuracy: 0.9855 - val_loss: 0.1252 - val_accuracy: 0.9680\n",
            "Epoch 8/10\n",
            "375/375 [==============================] - 1s 4ms/step - loss: 0.0348 - accuracy: 0.9886 - val_loss: 0.1415 - val_accuracy: 0.9656\n",
            "Epoch 9/10\n",
            "375/375 [==============================] - 1s 3ms/step - loss: 0.0257 - accuracy: 0.9919 - val_loss: 0.1309 - val_accuracy: 0.9683\n",
            "Epoch 10/10\n",
            "375/375 [==============================] - 1s 4ms/step - loss: 0.0219 - accuracy: 0.9932 - val_loss: 0.1440 - val_accuracy: 0.9657\n",
            "Epoch 1/10\n",
            "375/375 [==============================] - 2s 4ms/step - loss: 0.2873 - accuracy: 0.9165 - val_loss: 0.1474 - val_accuracy: 0.9580\n",
            "Epoch 2/10\n",
            "375/375 [==============================] - 1s 3ms/step - loss: 0.1183 - accuracy: 0.9650 - val_loss: 0.1041 - val_accuracy: 0.9673\n",
            "Epoch 3/10\n",
            "375/375 [==============================] - 1s 3ms/step - loss: 0.0772 - accuracy: 0.9766 - val_loss: 0.0889 - val_accuracy: 0.9729\n",
            "Epoch 4/10\n",
            "375/375 [==============================] - 1s 3ms/step - loss: 0.0562 - accuracy: 0.9832 - val_loss: 0.0804 - val_accuracy: 0.9749\n",
            "Epoch 5/10\n",
            "375/375 [==============================] - 1s 3ms/step - loss: 0.0410 - accuracy: 0.9877 - val_loss: 0.0788 - val_accuracy: 0.9763\n",
            "Epoch 6/10\n",
            "375/375 [==============================] - 1s 3ms/step - loss: 0.0309 - accuracy: 0.9911 - val_loss: 0.0815 - val_accuracy: 0.9766\n",
            "Epoch 7/10\n",
            "375/375 [==============================] - 1s 3ms/step - loss: 0.0239 - accuracy: 0.9924 - val_loss: 0.0841 - val_accuracy: 0.9777\n",
            "Epoch 8/10\n",
            "375/375 [==============================] - 1s 3ms/step - loss: 0.0176 - accuracy: 0.9948 - val_loss: 0.0795 - val_accuracy: 0.9778\n",
            "Epoch 9/10\n",
            "375/375 [==============================] - 1s 4ms/step - loss: 0.0140 - accuracy: 0.9959 - val_loss: 0.0847 - val_accuracy: 0.9785\n",
            "Epoch 10/10\n",
            "375/375 [==============================] - 1s 4ms/step - loss: 0.0104 - accuracy: 0.9973 - val_loss: 0.0846 - val_accuracy: 0.9784\n"
          ]
        }
      ],
      "source": [
        "from tensorflow import keras\n",
        "from tensorflow.keras import layers\n",
        "\n",
        "def get_model():\n",
        "    model = keras.Sequential([\n",
        "        layers.Dense(512, activation=\"relu\"),\n",
        "        layers.Dense(10, activation=\"softmax\")\n",
        "    ])\n",
        "    model.compile(optimizer=\"rmsprop\",\n",
        "                  loss=\"sparse_categorical_crossentropy\",\n",
        "                  metrics=[\"accuracy\"])\n",
        "    return model\n",
        "\n",
        "model = get_model()\n",
        "history_noise = model.fit(\n",
        "    train_images_with_noise_channels, train_labels,\n",
        "    epochs=10,\n",
        "    batch_size=128,\n",
        "    validation_split=0.2)\n",
        "\n",
        "model = get_model()\n",
        "history_zeros = model.fit(\n",
        "    train_images_with_zeros_channels, train_labels,\n",
        "    epochs=10,\n",
        "    batch_size=128,\n",
        "    validation_split=0.2)"
      ]
    },
    {
      "cell_type": "markdown",
      "metadata": {
        "id": "tQilsy3ChWDX"
      },
      "source": [
        "**Plotting a validation accuracy comparison**"
      ]
    },
    {
      "cell_type": "code",
      "execution_count": 3,
      "metadata": {
        "id": "Z1Am842LhWDY",
        "colab": {
          "base_uri": "https://localhost:8080/",
          "height": 314
        },
        "outputId": "f7c78acc-a898-410f-b921-bb739bf4e3cc"
      },
      "outputs": [
        {
          "output_type": "execute_result",
          "data": {
            "text/plain": [
              "<matplotlib.legend.Legend at 0x7f01266a4a10>"
            ]
          },
          "metadata": {},
          "execution_count": 3
        },
        {
          "output_type": "display_data",
          "data": {
            "text/plain": [
              "<Figure size 432x288 with 1 Axes>"
            ],
            "image/png": "[encoded data removed]"
          },
          "metadata": {
            "needs_background": "light"
          }
        }
      ],
      "source": [
        "import matplotlib.pyplot as plt\n",
        "val_acc_noise = history_noise.history[\"val_accuracy\"]\n",
        "val_acc_zeros = history_zeros.history[\"val_accuracy\"]\n",
        "epochs = range(1, 11)\n",
        "plt.plot(epochs, val_acc_noise, \"b-\",\n",
        "         label=\"Validation accuracy with noise channels\")\n",
        "plt.plot(epochs, val_acc_zeros, \"b--\",\n",
        "         label=\"Validation accuracy with zeros channels\")\n",
        "plt.title(\"Effect of noise channels on validation accuracy\")\n",
        "plt.xlabel(\"Epochs\")\n",
        "plt.ylabel(\"Accuracy\")\n",
        "plt.legend()"
      ]
    },
    {
      "cell_type": "markdown",
      "metadata": {
        "id": "Jsb2MLAYhWDY"
      },
      "source": [
        "### The nature of generalization in deep learning"
      ]
    },
    {
      "cell_type": "markdown",
      "metadata": {
        "id": "rPyDBVLahWDY"
      },
      "source": [
        "**Fitting a MNIST model with randomly shuffled labels**"
      ]
    },
    {
      "cell_type": "code",
      "execution_count": 4,
      "metadata": {
        "id": "gW6tZ-PThWDZ",
        "colab": {
          "base_uri": "https://localhost:8080/"
        },
        "outputId": "c7ee98f7-76c5-48b2-8f66-d26ec85c9b40"
      },
      "outputs": [
        {
          "output_type": "stream",
          "name": "stdout",
          "text": [
            "Epoch 1/100\n",
            "375/375 [==============================] - 2s 4ms/step - loss: 2.3180 - accuracy: 0.1063 - val_loss: 2.3058 - val_accuracy: 0.1065\n",
            "Epoch 2/100\n",
            "375/375 [==============================] - 1s 3ms/step - loss: 2.3003 - accuracy: 0.1168 - val_loss: 2.3106 - val_accuracy: 0.1012\n",
            "Epoch 3/100\n",
            "375/375 [==============================] - 1s 3ms/step - loss: 2.2903 - accuracy: 0.1291 - val_loss: 2.3192 - val_accuracy: 0.1041\n",
            "Epoch 4/100\n",
            "375/375 [==============================] - 1s 3ms/step - loss: 2.2764 - accuracy: 0.1389 - val_loss: 2.3242 - val_accuracy: 0.1021\n",
            "Epoch 5/100\n",
            "375/375 [==============================] - 1s 3ms/step - loss: 2.2593 - accuracy: 0.1538 - val_loss: 2.3361 - val_accuracy: 0.1025\n",
            "Epoch 6/100\n",
            "375/375 [==============================] - 1s 4ms/step - loss: 2.2393 - accuracy: 0.1649 - val_loss: 2.3459 - val_accuracy: 0.1000\n",
            "Epoch 7/100\n",
            "375/375 [==============================] - 1s 3ms/step - loss: 2.2158 - accuracy: 0.1821 - val_loss: 2.3702 - val_accuracy: 0.0946\n",
            "Epoch 8/100\n",
            "375/375 [==============================] - 1s 3ms/step - loss: 2.1885 - accuracy: 0.2009 - val_loss: 2.3804 - val_accuracy: 0.0992\n",
            "Epoch 9/100\n",
            "375/375 [==============================] - 1s 3ms/step - loss: 2.1585 - accuracy: 0.2136 - val_loss: 2.4016 - val_accuracy: 0.0997\n",
            "Epoch 10/100\n",
            "375/375 [==============================] - 1s 3ms/step - loss: 2.1276 - accuracy: 0.2280 - val_loss: 2.4294 - val_accuracy: 0.0999\n",
            "Epoch 11/100\n",
            "375/375 [==============================] - 1s 3ms/step - loss: 2.0974 - accuracy: 0.2464 - val_loss: 2.4497 - val_accuracy: 0.0994\n",
            "Epoch 12/100\n",
            "375/375 [==============================] - 1s 3ms/step - loss: 2.0633 - accuracy: 0.2626 - val_loss: 2.4788 - val_accuracy: 0.1007\n",
            "Epoch 13/100\n",
            "375/375 [==============================] - 1s 3ms/step - loss: 2.0310 - accuracy: 0.2766 - val_loss: 2.5034 - val_accuracy: 0.1011\n",
            "Epoch 14/100\n",
            "375/375 [==============================] - 1s 3ms/step - loss: 1.9961 - accuracy: 0.2884 - val_loss: 2.5313 - val_accuracy: 0.0997\n",
            "Epoch 15/100\n",
            "375/375 [==============================] - 1s 3ms/step - loss: 1.9617 - accuracy: 0.3068 - val_loss: 2.5580 - val_accuracy: 0.1004\n",
            "Epoch 16/100\n",
            "375/375 [==============================] - 1s 3ms/step - loss: 1.9265 - accuracy: 0.3197 - val_loss: 2.5972 - val_accuracy: 0.0985\n",
            "Epoch 17/100\n",
            "375/375 [==============================] - 1s 3ms/step - loss: 1.8915 - accuracy: 0.3343 - val_loss: 2.6339 - val_accuracy: 0.1023\n",
            "Epoch 18/100\n",
            "375/375 [==============================] - 1s 4ms/step - loss: 1.8589 - accuracy: 0.3488 - val_loss: 2.6870 - val_accuracy: 0.0979\n",
            "Epoch 19/100\n",
            "375/375 [==============================] - 1s 4ms/step - loss: 1.8256 - accuracy: 0.3596 - val_loss: 2.6956 - val_accuracy: 0.0997\n",
            "Epoch 20/100\n",
            "375/375 [==============================] - 1s 3ms/step - loss: 1.7936 - accuracy: 0.3750 - val_loss: 2.7362 - val_accuracy: 0.1005\n",
            "Epoch 21/100\n",
            "375/375 [==============================] - 1s 4ms/step - loss: 1.7598 - accuracy: 0.3867 - val_loss: 2.7786 - val_accuracy: 0.1015\n",
            "Epoch 22/100\n",
            "375/375 [==============================] - 2s 4ms/step - loss: 1.7287 - accuracy: 0.3999 - val_loss: 2.8162 - val_accuracy: 0.0989\n",
            "Epoch 23/100\n",
            "375/375 [==============================] - 1s 3ms/step - loss: 1.6990 - accuracy: 0.4103 - val_loss: 2.8564 - val_accuracy: 0.1020\n",
            "Epoch 24/100\n",
            "375/375 [==============================] - 1s 3ms/step - loss: 1.6701 - accuracy: 0.4211 - val_loss: 2.8910 - val_accuracy: 0.1007\n",
            "Epoch 25/100\n",
            "375/375 [==============================] - 1s 3ms/step - loss: 1.6395 - accuracy: 0.4307 - val_loss: 2.9381 - val_accuracy: 0.0992\n",
            "Epoch 26/100\n",
            "375/375 [==============================] - 1s 3ms/step - loss: 1.6099 - accuracy: 0.4431 - val_loss: 2.9941 - val_accuracy: 0.1022\n",
            "Epoch 27/100\n",
            "375/375 [==============================] - 1s 3ms/step - loss: 1.5815 - accuracy: 0.4561 - val_loss: 3.0163 - val_accuracy: 0.1006\n",
            "Epoch 28/100\n",
            "375/375 [==============================] - 1s 3ms/step - loss: 1.5549 - accuracy: 0.4659 - val_loss: 3.0429 - val_accuracy: 0.0981\n",
            "Epoch 29/100\n",
            "375/375 [==============================] - 1s 3ms/step - loss: 1.5279 - accuracy: 0.4732 - val_loss: 3.0979 - val_accuracy: 0.0996\n",
            "Epoch 30/100\n",
            "375/375 [==============================] - 1s 3ms/step - loss: 1.5006 - accuracy: 0.4806 - val_loss: 3.1568 - val_accuracy: 0.0979\n",
            "Epoch 31/100\n",
            "375/375 [==============================] - 1s 3ms/step - loss: 1.4757 - accuracy: 0.4958 - val_loss: 3.1930 - val_accuracy: 0.1007\n",
            "Epoch 32/100\n",
            "375/375 [==============================] - 1s 3ms/step - loss: 1.4521 - accuracy: 0.5027 - val_loss: 3.2416 - val_accuracy: 0.1019\n",
            "Epoch 33/100\n",
            "375/375 [==============================] - 1s 3ms/step - loss: 1.4274 - accuracy: 0.5103 - val_loss: 3.2842 - val_accuracy: 0.0967\n",
            "Epoch 34/100\n",
            "375/375 [==============================] - 1s 3ms/step - loss: 1.4025 - accuracy: 0.5214 - val_loss: 3.3379 - val_accuracy: 0.1006\n",
            "Epoch 35/100\n",
            "375/375 [==============================] - 1s 3ms/step - loss: 1.3768 - accuracy: 0.5298 - val_loss: 3.3820 - val_accuracy: 0.0962\n",
            "Epoch 36/100\n",
            "375/375 [==============================] - 1s 3ms/step - loss: 1.3551 - accuracy: 0.5404 - val_loss: 3.4543 - val_accuracy: 0.1014\n",
            "Epoch 37/100\n",
            "375/375 [==============================] - 1s 3ms/step - loss: 1.3334 - accuracy: 0.5459 - val_loss: 3.4746 - val_accuracy: 0.0982\n",
            "Epoch 38/100\n",
            "375/375 [==============================] - 1s 3ms/step - loss: 1.3106 - accuracy: 0.5554 - val_loss: 3.5066 - val_accuracy: 0.0997\n",
            "Epoch 39/100\n",
            "375/375 [==============================] - 1s 3ms/step - loss: 1.2909 - accuracy: 0.5611 - val_loss: 3.5529 - val_accuracy: 0.0997\n",
            "Epoch 40/100\n",
            "375/375 [==============================] - 1s 3ms/step - loss: 1.2700 - accuracy: 0.5701 - val_loss: 3.6274 - val_accuracy: 0.1014\n",
            "Epoch 41/100\n",
            "375/375 [==============================] - 1s 3ms/step - loss: 1.2494 - accuracy: 0.5772 - val_loss: 3.6632 - val_accuracy: 0.0997\n",
            "Epoch 42/100\n",
            "375/375 [==============================] - 1s 3ms/step - loss: 1.2283 - accuracy: 0.5859 - val_loss: 3.7364 - val_accuracy: 0.0968\n",
            "Epoch 43/100\n",
            "375/375 [==============================] - 1s 3ms/step - loss: 1.2074 - accuracy: 0.5930 - val_loss: 3.7670 - val_accuracy: 0.0988\n",
            "Epoch 44/100\n",
            "375/375 [==============================] - 1s 3ms/step - loss: 1.1886 - accuracy: 0.5982 - val_loss: 3.8129 - val_accuracy: 0.0974\n",
            "Epoch 45/100\n",
            "375/375 [==============================] - 1s 4ms/step - loss: 1.1703 - accuracy: 0.6068 - val_loss: 3.8998 - val_accuracy: 0.1021\n",
            "Epoch 46/100\n",
            "375/375 [==============================] - 1s 3ms/step - loss: 1.1524 - accuracy: 0.6115 - val_loss: 3.9410 - val_accuracy: 0.1023\n",
            "Epoch 47/100\n",
            "375/375 [==============================] - 1s 3ms/step - loss: 1.1328 - accuracy: 0.6176 - val_loss: 4.0057 - val_accuracy: 0.0990\n",
            "Epoch 48/100\n",
            "375/375 [==============================] - 1s 3ms/step - loss: 1.1173 - accuracy: 0.6241 - val_loss: 4.0428 - val_accuracy: 0.0986\n",
            "Epoch 49/100\n",
            "375/375 [==============================] - 1s 3ms/step - loss: 1.0987 - accuracy: 0.6311 - val_loss: 4.1180 - val_accuracy: 0.0993\n",
            "Epoch 50/100\n",
            "375/375 [==============================] - 1s 3ms/step - loss: 1.0840 - accuracy: 0.6374 - val_loss: 4.1805 - val_accuracy: 0.1011\n",
            "Epoch 51/100\n",
            "375/375 [==============================] - 1s 3ms/step - loss: 1.0666 - accuracy: 0.6415 - val_loss: 4.1951 - val_accuracy: 0.0998\n",
            "Epoch 52/100\n",
            "375/375 [==============================] - 1s 3ms/step - loss: 1.0495 - accuracy: 0.6499 - val_loss: 4.2812 - val_accuracy: 0.0997\n",
            "Epoch 53/100\n",
            "375/375 [==============================] - 1s 3ms/step - loss: 1.0343 - accuracy: 0.6544 - val_loss: 4.3484 - val_accuracy: 0.0979\n",
            "Epoch 54/100\n",
            "375/375 [==============================] - 1s 3ms/step - loss: 1.0175 - accuracy: 0.6586 - val_loss: 4.4008 - val_accuracy: 0.1000\n",
            "Epoch 55/100\n",
            "375/375 [==============================] - 1s 3ms/step - loss: 1.0020 - accuracy: 0.6656 - val_loss: 4.4800 - val_accuracy: 0.1008\n",
            "Epoch 56/100\n",
            "375/375 [==============================] - 1s 3ms/step - loss: 0.9875 - accuracy: 0.6694 - val_loss: 4.5248 - val_accuracy: 0.1014\n",
            "Epoch 57/100\n",
            "375/375 [==============================] - 1s 3ms/step - loss: 0.9712 - accuracy: 0.6769 - val_loss: 4.5515 - val_accuracy: 0.1001\n",
            "Epoch 58/100\n",
            "375/375 [==============================] - 1s 3ms/step - loss: 0.9584 - accuracy: 0.6804 - val_loss: 4.6334 - val_accuracy: 0.1003\n",
            "Epoch 59/100\n",
            "375/375 [==============================] - 1s 3ms/step - loss: 0.9415 - accuracy: 0.6879 - val_loss: 4.6990 - val_accuracy: 0.0996\n",
            "Epoch 60/100\n",
            "375/375 [==============================] - 1s 3ms/step - loss: 0.9276 - accuracy: 0.6915 - val_loss: 4.7530 - val_accuracy: 0.1025\n",
            "Epoch 61/100\n",
            "375/375 [==============================] - 1s 3ms/step - loss: 0.9157 - accuracy: 0.6966 - val_loss: 4.8411 - val_accuracy: 0.1008\n",
            "Epoch 62/100\n",
            "375/375 [==============================] - 1s 3ms/step - loss: 0.9001 - accuracy: 0.7014 - val_loss: 4.8841 - val_accuracy: 0.0993\n",
            "Epoch 63/100\n",
            "375/375 [==============================] - 1s 4ms/step - loss: 0.8864 - accuracy: 0.7042 - val_loss: 4.9035 - val_accuracy: 0.1021\n",
            "Epoch 64/100\n",
            "375/375 [==============================] - 1s 3ms/step - loss: 0.8726 - accuracy: 0.7085 - val_loss: 4.9691 - val_accuracy: 0.1007\n",
            "Epoch 65/100\n",
            "375/375 [==============================] - 1s 3ms/step - loss: 0.8610 - accuracy: 0.7148 - val_loss: 4.9817 - val_accuracy: 0.1022\n",
            "Epoch 66/100\n",
            "375/375 [==============================] - 1s 3ms/step - loss: 0.8483 - accuracy: 0.7201 - val_loss: 5.0795 - val_accuracy: 0.1030\n",
            "Epoch 67/100\n",
            "375/375 [==============================] - 1s 3ms/step - loss: 0.8342 - accuracy: 0.7260 - val_loss: 5.1652 - val_accuracy: 0.0976\n",
            "Epoch 68/100\n",
            "375/375 [==============================] - 1s 3ms/step - loss: 0.8236 - accuracy: 0.7285 - val_loss: 5.2693 - val_accuracy: 0.1003\n",
            "Epoch 69/100\n",
            "375/375 [==============================] - 1s 3ms/step - loss: 0.8128 - accuracy: 0.7315 - val_loss: 5.2815 - val_accuracy: 0.1014\n",
            "Epoch 70/100\n",
            "375/375 [==============================] - 1s 3ms/step - loss: 0.7984 - accuracy: 0.7379 - val_loss: 5.3871 - val_accuracy: 0.0990\n",
            "Epoch 71/100\n",
            "375/375 [==============================] - 1s 3ms/step - loss: 0.7883 - accuracy: 0.7393 - val_loss: 5.3970 - val_accuracy: 0.0977\n",
            "Epoch 72/100\n",
            "375/375 [==============================] - 1s 3ms/step - loss: 0.7771 - accuracy: 0.7436 - val_loss: 5.4455 - val_accuracy: 0.0962\n",
            "Epoch 73/100\n",
            "375/375 [==============================] - 1s 3ms/step - loss: 0.7659 - accuracy: 0.7487 - val_loss: 5.5471 - val_accuracy: 0.0972\n",
            "Epoch 74/100\n",
            "375/375 [==============================] - 1s 3ms/step - loss: 0.7547 - accuracy: 0.7516 - val_loss: 5.5738 - val_accuracy: 0.0972\n",
            "Epoch 75/100\n",
            "375/375 [==============================] - 1s 3ms/step - loss: 0.7445 - accuracy: 0.7537 - val_loss: 5.6499 - val_accuracy: 0.0998\n",
            "Epoch 76/100\n",
            "375/375 [==============================] - 1s 4ms/step - loss: 0.7350 - accuracy: 0.7581 - val_loss: 5.6594 - val_accuracy: 0.0995\n",
            "Epoch 77/100\n",
            "375/375 [==============================] - 1s 3ms/step - loss: 0.7212 - accuracy: 0.7636 - val_loss: 5.7540 - val_accuracy: 0.0986\n",
            "Epoch 78/100\n",
            "375/375 [==============================] - 1s 3ms/step - loss: 0.7108 - accuracy: 0.7667 - val_loss: 5.8088 - val_accuracy: 0.0974\n",
            "Epoch 79/100\n",
            "375/375 [==============================] - 1s 4ms/step - loss: 0.7018 - accuracy: 0.7706 - val_loss: 5.9025 - val_accuracy: 0.1011\n",
            "Epoch 80/100\n",
            "375/375 [==============================] - 1s 3ms/step - loss: 0.6900 - accuracy: 0.7732 - val_loss: 5.9994 - val_accuracy: 0.0983\n",
            "Epoch 81/100\n",
            "375/375 [==============================] - 1s 3ms/step - loss: 0.6823 - accuracy: 0.7751 - val_loss: 6.0446 - val_accuracy: 0.0985\n",
            "Epoch 82/100\n",
            "375/375 [==============================] - 1s 4ms/step - loss: 0.6728 - accuracy: 0.7808 - val_loss: 6.0970 - val_accuracy: 0.0961\n",
            "Epoch 83/100\n",
            "375/375 [==============================] - 1s 4ms/step - loss: 0.6646 - accuracy: 0.7806 - val_loss: 6.2032 - val_accuracy: 0.1014\n",
            "Epoch 84/100\n",
            "375/375 [==============================] - 1s 3ms/step - loss: 0.6522 - accuracy: 0.7860 - val_loss: 6.2229 - val_accuracy: 0.1009\n",
            "Epoch 85/100\n",
            "375/375 [==============================] - 1s 4ms/step - loss: 0.6443 - accuracy: 0.7889 - val_loss: 6.3377 - val_accuracy: 0.0989\n",
            "Epoch 86/100\n",
            "375/375 [==============================] - 1s 4ms/step - loss: 0.6344 - accuracy: 0.7922 - val_loss: 6.3959 - val_accuracy: 0.1007\n",
            "Epoch 87/100\n",
            "375/375 [==============================] - 1s 3ms/step - loss: 0.6269 - accuracy: 0.7952 - val_loss: 6.4797 - val_accuracy: 0.0985\n",
            "Epoch 88/100\n",
            "375/375 [==============================] - 1s 4ms/step - loss: 0.6163 - accuracy: 0.7996 - val_loss: 6.5604 - val_accuracy: 0.1010\n",
            "Epoch 89/100\n",
            "375/375 [==============================] - 1s 3ms/step - loss: 0.6094 - accuracy: 0.8009 - val_loss: 6.5497 - val_accuracy: 0.0991\n",
            "Epoch 90/100\n",
            "375/375 [==============================] - 1s 3ms/step - loss: 0.6007 - accuracy: 0.8055 - val_loss: 6.6307 - val_accuracy: 0.0997\n",
            "Epoch 91/100\n",
            "375/375 [==============================] - 1s 3ms/step - loss: 0.5934 - accuracy: 0.8086 - val_loss: 6.6873 - val_accuracy: 0.0991\n",
            "Epoch 92/100\n",
            "375/375 [==============================] - 1s 3ms/step - loss: 0.5828 - accuracy: 0.8115 - val_loss: 6.7617 - val_accuracy: 0.0986\n",
            "Epoch 93/100\n",
            "375/375 [==============================] - 1s 3ms/step - loss: 0.5742 - accuracy: 0.8138 - val_loss: 6.8387 - val_accuracy: 0.0993\n",
            "Epoch 94/100\n",
            "375/375 [==============================] - 1s 4ms/step - loss: 0.5682 - accuracy: 0.8172 - val_loss: 6.8470 - val_accuracy: 0.1033\n",
            "Epoch 95/100\n",
            "375/375 [==============================] - 1s 3ms/step - loss: 0.5600 - accuracy: 0.8193 - val_loss: 6.9814 - val_accuracy: 0.0993\n",
            "Epoch 96/100\n",
            "375/375 [==============================] - 1s 4ms/step - loss: 0.5504 - accuracy: 0.8222 - val_loss: 7.0110 - val_accuracy: 0.1000\n",
            "Epoch 97/100\n",
            "375/375 [==============================] - 1s 3ms/step - loss: 0.5432 - accuracy: 0.8239 - val_loss: 7.0910 - val_accuracy: 0.1007\n",
            "Epoch 98/100\n",
            "375/375 [==============================] - 1s 3ms/step - loss: 0.5375 - accuracy: 0.8272 - val_loss: 7.1414 - val_accuracy: 0.1011\n",
            "Epoch 99/100\n",
            "375/375 [==============================] - 1s 4ms/step - loss: 0.5304 - accuracy: 0.8294 - val_loss: 7.2280 - val_accuracy: 0.1015\n",
            "Epoch 100/100\n",
            "375/375 [==============================] - 1s 4ms/step - loss: 0.5237 - accuracy: 0.8319 - val_loss: 7.3252 - val_accuracy: 0.1004\n"
          ]
        },
        {
          "output_type": "execute_result",
          "data": {
            "text/plain": [
              "<keras.callbacks.History at 0x7f0126619c10>"
            ]
          },
          "metadata": {},
          "execution_count": 4
        }
      ],
      "source": [
        "(train_images, train_labels), _ = mnist.load_data()\n",
        "train_images = train_images.reshape((60000, 28 * 28))\n",
        "train_images = train_images.astype(\"float32\") / 255\n",
        "\n",
        "random_train_labels = train_labels[:]\n",
        "np.random.shuffle(random_train_labels)\n",
        "\n",
        "model = keras.Sequential([\n",
        "    layers.Dense(512, activation=\"relu\"),\n",
        "    layers.Dense(10, activation=\"softmax\")\n",
        "])\n",
        "model.compile(optimizer=\"rmsprop\",\n",
        "              loss=\"sparse_categorical_crossentropy\",\n",
        "              metrics=[\"accuracy\"])\n",
        "model.fit(train_images, random_train_labels,\n",
        "          epochs=100,\n",
        "          batch_size=128,\n",
        "          validation_split=0.2)"
      ]
    },
    {
      "cell_type": "markdown",
      "metadata": {
        "id": "_jwY5KCUhWDZ"
      },
      "source": [
        "#### The manifold hypothesis"
      ]
    },
    {
      "cell_type": "markdown",
      "metadata": {
        "id": "l6ONvUA1hWDZ"
      },
      "source": [
        "#### Interpolation as a source of generalization"
      ]
    },
    {
      "cell_type": "markdown",
      "metadata": {
        "id": "XDQ8lk7ahWDZ"
      },
      "source": [
        "#### Why deep learning works"
      ]
    },
    {
      "cell_type": "markdown",
      "metadata": {
        "id": "T1XkBXiThWDa"
      },
      "source": [
        "#### Training data is paramount"
      ]
    },
    {
      "cell_type": "markdown",
      "metadata": {
        "id": "JTfmAggkhWDa"
      },
      "source": [
        "## Evaluating machine-learning models"
      ]
    },
    {
      "cell_type": "markdown",
      "metadata": {
        "id": "m4mpsmZdhWDa"
      },
      "source": [
        "### Training, validation, and test sets"
      ]
    },
    {
      "cell_type": "markdown",
      "metadata": {
        "id": "kowFw3VQhWDa"
      },
      "source": [
        "#### Simple hold-out validation"
      ]
    },
    {
      "cell_type": "markdown",
      "metadata": {
        "id": "USHltiHnhWDb"
      },
      "source": [
        "#### K-fold validation"
      ]
    },
    {
      "cell_type": "markdown",
      "metadata": {
        "id": "I2liDVrGhWDb"
      },
      "source": [
        "#### Iterated K-fold validation with shuffling"
      ]
    },
    {
      "cell_type": "markdown",
      "metadata": {
        "id": "15-06px5hWDb"
      },
      "source": [
        "### Beating a common-sense baseline"
      ]
    },
    {
      "cell_type": "markdown",
      "metadata": {
        "id": "9nBkosJdhWDb"
      },
      "source": [
        "### Things to keep in mind about model evaluation"
      ]
    },
    {
      "cell_type": "markdown",
      "metadata": {
        "id": "_oeJVO7NhWDb"
      },
      "source": [
        "## Improving model fit"
      ]
    },
    {
      "cell_type": "markdown",
      "metadata": {
        "id": "Pt7i9tUOhWDc"
      },
      "source": [
        "### Tuning key gradient descent parameters"
      ]
    },
    {
      "cell_type": "markdown",
      "metadata": {
        "id": "4TnD7PVGhWDc"
      },
      "source": [
        "**Training a MNIST model with an incorrectly high learning rate**"
      ]
    },
    {
      "cell_type": "code",
      "execution_count": 5,
      "metadata": {
        "id": "e9PCwIGjhWDc",
        "colab": {
          "base_uri": "https://localhost:8080/"
        },
        "outputId": "be50e93f-f206-4fd7-8a15-62ec14940356"
      },
      "outputs": [
        {
          "output_type": "stream",
          "name": "stdout",
          "text": [
            "Epoch 1/10\n",
            "375/375 [==============================] - 2s 4ms/step - loss: 819.9547 - accuracy: 0.3344 - val_loss: 2.8613 - val_accuracy: 0.2157\n",
            "Epoch 2/10\n",
            "375/375 [==============================] - 1s 3ms/step - loss: 2.8974 - accuracy: 0.2231 - val_loss: 3.1524 - val_accuracy: 0.2401\n",
            "Epoch 3/10\n",
            "375/375 [==============================] - 1s 3ms/step - loss: 3.6365 - accuracy: 0.2090 - val_loss: 2.2166 - val_accuracy: 0.2153\n",
            "Epoch 4/10\n",
            "375/375 [==============================] - 1s 3ms/step - loss: 3.0609 - accuracy: 0.2061 - val_loss: 2.3584 - val_accuracy: 0.2192\n",
            "Epoch 5/10\n",
            "375/375 [==============================] - 1s 3ms/step - loss: 2.6237 - accuracy: 0.1896 - val_loss: 2.2297 - val_accuracy: 0.1972\n",
            "Epoch 6/10\n",
            "375/375 [==============================] - 1s 3ms/step - loss: 2.4990 - accuracy: 0.2165 - val_loss: 2.2373 - val_accuracy: 0.2294\n",
            "Epoch 7/10\n",
            "375/375 [==============================] - 1s 3ms/step - loss: 2.7781 - accuracy: 0.2238 - val_loss: 2.0308 - val_accuracy: 0.2644\n",
            "Epoch 8/10\n",
            "375/375 [==============================] - 1s 3ms/step - loss: 2.3142 - accuracy: 0.2462 - val_loss: 3.1034 - val_accuracy: 0.2757\n",
            "Epoch 9/10\n",
            "375/375 [==============================] - 1s 3ms/step - loss: 2.5256 - accuracy: 0.2324 - val_loss: 2.4977 - val_accuracy: 0.2362\n",
            "Epoch 10/10\n",
            "375/375 [==============================] - 1s 3ms/step - loss: 2.4676 - accuracy: 0.2213 - val_loss: 3.3692 - val_accuracy: 0.2669\n"
          ]
        },
        {
          "output_type": "execute_result",
          "data": {
            "text/plain": [
              "<keras.callbacks.History at 0x7f01260bd490>"
            ]
          },
          "metadata": {},
          "execution_count": 5
        }
      ],
      "source": [
        "(train_images, train_labels), _ = mnist.load_data()\n",
        "train_images = train_images.reshape((60000, 28 * 28))\n",
        "train_images = train_images.astype(\"float32\") / 255\n",
        "\n",
        "model = keras.Sequential([\n",
        "    layers.Dense(512, activation=\"relu\"),\n",
        "    layers.Dense(10, activation=\"softmax\")\n",
        "])\n",
        "model.compile(optimizer=keras.optimizers.RMSprop(1.),\n",
        "              loss=\"sparse_categorical_crossentropy\",\n",
        "              metrics=[\"accuracy\"])\n",
        "model.fit(train_images, train_labels,\n",
        "          epochs=10,\n",
        "          batch_size=128,\n",
        "          validation_split=0.2)"
      ]
    },
    {
      "cell_type": "markdown",
      "metadata": {
        "id": "weEjJ55whWDc"
      },
      "source": [
        "**The same model with a more appropriate learning rate**"
      ]
    },
    {
      "cell_type": "code",
      "execution_count": 6,
      "metadata": {
        "id": "vOdRBJY2hWDc",
        "colab": {
          "base_uri": "https://localhost:8080/"
        },
        "outputId": "9b51f57b-b680-4b1a-eec2-2a41bd10e63a"
      },
      "outputs": [
        {
          "output_type": "stream",
          "name": "stdout",
          "text": [
            "Epoch 1/10\n",
            "375/375 [==============================] - 2s 4ms/step - loss: 0.3572 - accuracy: 0.9124 - val_loss: 0.1696 - val_accuracy: 0.9546\n",
            "Epoch 2/10\n",
            "375/375 [==============================] - 1s 3ms/step - loss: 0.1361 - accuracy: 0.9649 - val_loss: 0.1560 - val_accuracy: 0.9675\n",
            "Epoch 3/10\n",
            "375/375 [==============================] - 1s 3ms/step - loss: 0.1129 - accuracy: 0.9740 - val_loss: 0.2188 - val_accuracy: 0.9610\n",
            "Epoch 4/10\n",
            "375/375 [==============================] - 1s 3ms/step - loss: 0.1003 - accuracy: 0.9771 - val_loss: 0.1737 - val_accuracy: 0.9728\n",
            "Epoch 5/10\n",
            "375/375 [==============================] - 1s 3ms/step - loss: 0.0863 - accuracy: 0.9815 - val_loss: 0.2241 - val_accuracy: 0.9702\n",
            "Epoch 6/10\n",
            "375/375 [==============================] - 1s 4ms/step - loss: 0.0767 - accuracy: 0.9846 - val_loss: 0.2231 - val_accuracy: 0.9719\n",
            "Epoch 7/10\n",
            "375/375 [==============================] - 1s 3ms/step - loss: 0.0729 - accuracy: 0.9862 - val_loss: 0.2390 - val_accuracy: 0.9699\n",
            "Epoch 8/10\n",
            "375/375 [==============================] - 1s 3ms/step - loss: 0.0627 - accuracy: 0.9881 - val_loss: 0.2798 - val_accuracy: 0.9729\n",
            "Epoch 9/10\n",
            "375/375 [==============================] - 1s 3ms/step - loss: 0.0600 - accuracy: 0.9895 - val_loss: 0.2891 - val_accuracy: 0.9742\n",
            "Epoch 10/10\n",
            "375/375 [==============================] - 1s 3ms/step - loss: 0.0589 - accuracy: 0.9901 - val_loss: 0.3985 - val_accuracy: 0.9685\n"
          ]
        },
        {
          "output_type": "execute_result",
          "data": {
            "text/plain": [
              "<keras.callbacks.History at 0x7f01124f3f50>"
            ]
          },
          "metadata": {},
          "execution_count": 6
        }
      ],
      "source": [
        "model = keras.Sequential([\n",
        "    layers.Dense(512, activation=\"relu\"),\n",
        "    layers.Dense(10, activation=\"softmax\")\n",
        "])\n",
        "model.compile(optimizer=keras.optimizers.RMSprop(1e-2),\n",
        "              loss=\"sparse_categorical_crossentropy\",\n",
        "              metrics=[\"accuracy\"])\n",
        "model.fit(train_images, train_labels,\n",
        "          epochs=10,\n",
        "          batch_size=128,\n",
        "          validation_split=0.2)"
      ]
    },
    {
      "cell_type": "markdown",
      "metadata": {
        "id": "PJ0jZbJ4hWDc"
      },
      "source": [
        "### Leveraging better architecture priors"
      ]
    },
    {
      "cell_type": "markdown",
      "metadata": {
        "id": "VQ4HJp-yhWDc"
      },
      "source": [
        "### Increasing model capacity"
      ]
    },
    {
      "cell_type": "markdown",
      "metadata": {
        "id": "d0g0KKphhWDd"
      },
      "source": [
        "**A simple logistic regression on MNIST**"
      ]
    },
    {
      "cell_type": "code",
      "execution_count": 7,
      "metadata": {
        "id": "SYspSqSmhWDe",
        "colab": {
          "base_uri": "https://localhost:8080/"
        },
        "outputId": "ed0ab066-cda3-494a-fc0f-e39b9de9fe2f"
      },
      "outputs": [
        {
          "output_type": "stream",
          "name": "stdout",
          "text": [
            "Epoch 1/20\n",
            "375/375 [==============================] - 1s 3ms/step - loss: 0.6645 - accuracy: 0.8344 - val_loss: 0.3591 - val_accuracy: 0.9009\n",
            "Epoch 2/20\n",
            "375/375 [==============================] - 1s 3ms/step - loss: 0.3502 - accuracy: 0.9037 - val_loss: 0.3083 - val_accuracy: 0.9127\n",
            "Epoch 3/20\n",
            "375/375 [==============================] - 1s 3ms/step - loss: 0.3154 - accuracy: 0.9122 - val_loss: 0.2900 - val_accuracy: 0.9187\n",
            "Epoch 4/20\n",
            "375/375 [==============================] - 1s 3ms/step - loss: 0.2992 - accuracy: 0.9165 - val_loss: 0.2810 - val_accuracy: 0.9214\n",
            "Epoch 5/20\n",
            "375/375 [==============================] - 1s 3ms/step - loss: 0.2894 - accuracy: 0.9196 - val_loss: 0.2754 - val_accuracy: 0.9250\n",
            "Epoch 6/20\n",
            "375/375 [==============================] - 1s 3ms/step - loss: 0.2830 - accuracy: 0.9209 - val_loss: 0.2736 - val_accuracy: 0.9257\n",
            "Epoch 7/20\n",
            "375/375 [==============================] - 1s 3ms/step - loss: 0.2779 - accuracy: 0.9221 - val_loss: 0.2697 - val_accuracy: 0.9274\n",
            "Epoch 8/20\n",
            "375/375 [==============================] - 1s 3ms/step - loss: 0.2741 - accuracy: 0.9232 - val_loss: 0.2684 - val_accuracy: 0.9263\n",
            "Epoch 9/20\n",
            "375/375 [==============================] - 1s 3ms/step - loss: 0.2713 - accuracy: 0.9247 - val_loss: 0.2657 - val_accuracy: 0.9277\n",
            "Epoch 10/20\n",
            "375/375 [==============================] - 1s 3ms/step - loss: 0.2686 - accuracy: 0.9256 - val_loss: 0.2652 - val_accuracy: 0.9277\n",
            "Epoch 11/20\n",
            "375/375 [==============================] - 1s 3ms/step - loss: 0.2665 - accuracy: 0.9269 - val_loss: 0.2645 - val_accuracy: 0.9278\n",
            "Epoch 12/20\n",
            "375/375 [==============================] - 1s 3ms/step - loss: 0.2647 - accuracy: 0.9269 - val_loss: 0.2625 - val_accuracy: 0.9293\n",
            "Epoch 13/20\n",
            "375/375 [==============================] - 1s 3ms/step - loss: 0.2632 - accuracy: 0.9275 - val_loss: 0.2624 - val_accuracy: 0.9299\n",
            "Epoch 14/20\n",
            "375/375 [==============================] - 1s 3ms/step - loss: 0.2616 - accuracy: 0.9274 - val_loss: 0.2627 - val_accuracy: 0.9308\n",
            "Epoch 15/20\n",
            "375/375 [==============================] - 1s 3ms/step - loss: 0.2605 - accuracy: 0.9286 - val_loss: 0.2627 - val_accuracy: 0.9301\n",
            "Epoch 16/20\n",
            "375/375 [==============================] - 1s 3ms/step - loss: 0.2595 - accuracy: 0.9295 - val_loss: 0.2622 - val_accuracy: 0.9292\n",
            "Epoch 17/20\n",
            "375/375 [==============================] - 1s 3ms/step - loss: 0.2582 - accuracy: 0.9290 - val_loss: 0.2618 - val_accuracy: 0.9299\n",
            "Epoch 18/20\n",
            "375/375 [==============================] - 1s 3ms/step - loss: 0.2573 - accuracy: 0.9300 - val_loss: 0.2608 - val_accuracy: 0.9295\n",
            "Epoch 19/20\n",
            "375/375 [==============================] - 1s 3ms/step - loss: 0.2562 - accuracy: 0.9295 - val_loss: 0.2637 - val_accuracy: 0.9296\n",
            "Epoch 20/20\n",
            "375/375 [==============================] - 1s 3ms/step - loss: 0.2559 - accuracy: 0.9300 - val_loss: 0.2602 - val_accuracy: 0.9320\n"
          ]
        }
      ],
      "source": [
        "model = keras.Sequential([layers.Dense(10, activation=\"softmax\")])\n",
        "model.compile(optimizer=\"rmsprop\",\n",
        "              loss=\"sparse_categorical_crossentropy\",\n",
        "              metrics=[\"accuracy\"])\n",
        "history_small_model = model.fit(\n",
        "    train_images, train_labels,\n",
        "    epochs=20,\n",
        "    batch_size=128,\n",
        "    validation_split=0.2)"
      ]
    },
    {
      "cell_type": "code",
      "execution_count": 8,
      "metadata": {
        "id": "7hP7LzpNhWDe",
        "colab": {
          "base_uri": "https://localhost:8080/",
          "height": 314
        },
        "outputId": "b2822195-4e53-4848-bfe9-1515e2d9e06b"
      },
      "outputs": [
        {
          "output_type": "execute_result",
          "data": {
            "text/plain": [
              "<matplotlib.legend.Legend at 0x7f0112268850>"
            ]
          },
          "metadata": {},
          "execution_count": 8
        },
        {
          "output_type": "display_data",
          "data": {
            "text/plain": [
              "<Figure size 432x288 with 1 Axes>"
            ],
            "image/png": "[encoded data removed]"
          },
          "metadata": {
            "needs_background": "light"
          }
        }
      ],
      "source": [
        "import matplotlib.pyplot as plt\n",
        "val_loss = history_small_model.history[\"val_loss\"]\n",
        "epochs = range(1, 21)\n",
        "plt.plot(epochs, val_loss, \"b--\",\n",
        "         label=\"Validation loss\")\n",
        "plt.title(\"Effect of insufficient model capacity on validation loss\")\n",
        "plt.xlabel(\"Epochs\")\n",
        "plt.ylabel(\"Loss\")\n",
        "plt.legend()"
      ]
    },
    {
      "cell_type": "code",
      "execution_count": 9,
      "metadata": {
        "id": "NCRetFxchWDe",
        "colab": {
          "base_uri": "https://localhost:8080/"
        },
        "outputId": "d24728c1-9372-459a-ae87-a7e890e8fe1d"
      },
      "outputs": [
        {
          "output_type": "stream",
          "name": "stdout",
          "text": [
            "Epoch 1/20\n",
            "375/375 [==============================] - 2s 4ms/step - loss: 0.3677 - accuracy: 0.8965 - val_loss: 0.2008 - val_accuracy: 0.9420\n",
            "Epoch 2/20\n",
            "375/375 [==============================] - 1s 3ms/step - loss: 0.1633 - accuracy: 0.9515 - val_loss: 0.1314 - val_accuracy: 0.9612\n",
            "Epoch 3/20\n",
            "375/375 [==============================] - 1s 3ms/step - loss: 0.1133 - accuracy: 0.9663 - val_loss: 0.1272 - val_accuracy: 0.9613\n",
            "Epoch 4/20\n",
            "375/375 [==============================] - 1s 4ms/step - loss: 0.0873 - accuracy: 0.9733 - val_loss: 0.1038 - val_accuracy: 0.9706\n",
            "Epoch 5/20\n",
            "375/375 [==============================] - 1s 3ms/step - loss: 0.0708 - accuracy: 0.9786 - val_loss: 0.0953 - val_accuracy: 0.9707\n",
            "Epoch 6/20\n",
            "375/375 [==============================] - 1s 3ms/step - loss: 0.0578 - accuracy: 0.9820 - val_loss: 0.0956 - val_accuracy: 0.9727\n",
            "Epoch 7/20\n",
            "375/375 [==============================] - 1s 3ms/step - loss: 0.0480 - accuracy: 0.9852 - val_loss: 0.0964 - val_accuracy: 0.9738\n",
            "Epoch 8/20\n",
            "375/375 [==============================] - 1s 3ms/step - loss: 0.0393 - accuracy: 0.9877 - val_loss: 0.0954 - val_accuracy: 0.9739\n",
            "Epoch 9/20\n",
            "375/375 [==============================] - 1s 3ms/step - loss: 0.0341 - accuracy: 0.9900 - val_loss: 0.0953 - val_accuracy: 0.9760\n",
            "Epoch 10/20\n",
            "375/375 [==============================] - 1s 3ms/step - loss: 0.0285 - accuracy: 0.9912 - val_loss: 0.1101 - val_accuracy: 0.9725\n",
            "Epoch 11/20\n",
            "375/375 [==============================] - 1s 4ms/step - loss: 0.0243 - accuracy: 0.9926 - val_loss: 0.1015 - val_accuracy: 0.9757\n",
            "Epoch 12/20\n",
            "375/375 [==============================] - 1s 3ms/step - loss: 0.0200 - accuracy: 0.9934 - val_loss: 0.1051 - val_accuracy: 0.9762\n",
            "Epoch 13/20\n",
            "375/375 [==============================] - 1s 3ms/step - loss: 0.0164 - accuracy: 0.9952 - val_loss: 0.1093 - val_accuracy: 0.9758\n",
            "Epoch 14/20\n",
            "375/375 [==============================] - 1s 3ms/step - loss: 0.0142 - accuracy: 0.9953 - val_loss: 0.1152 - val_accuracy: 0.9767\n",
            "Epoch 15/20\n",
            "375/375 [==============================] - 1s 3ms/step - loss: 0.0120 - accuracy: 0.9965 - val_loss: 0.1253 - val_accuracy: 0.9750\n",
            "Epoch 16/20\n",
            "375/375 [==============================] - 1s 3ms/step - loss: 0.0102 - accuracy: 0.9969 - val_loss: 0.1226 - val_accuracy: 0.9743\n",
            "Epoch 17/20\n",
            "375/375 [==============================] - 1s 3ms/step - loss: 0.0089 - accuracy: 0.9971 - val_loss: 0.1232 - val_accuracy: 0.9762\n",
            "Epoch 18/20\n",
            "375/375 [==============================] - 1s 3ms/step - loss: 0.0081 - accuracy: 0.9973 - val_loss: 0.1461 - val_accuracy: 0.9737\n",
            "Epoch 19/20\n",
            "375/375 [==============================] - 1s 3ms/step - loss: 0.0064 - accuracy: 0.9979 - val_loss: 0.1556 - val_accuracy: 0.9721\n",
            "Epoch 20/20\n",
            "375/375 [==============================] - 1s 3ms/step - loss: 0.0052 - accuracy: 0.9984 - val_loss: 0.1507 - val_accuracy: 0.9755\n"
          ]
        }
      ],
      "source": [
        "model = keras.Sequential([\n",
        "    layers.Dense(96, activation=\"relu\"),\n",
        "    layers.Dense(96, activation=\"relu\"),\n",
        "    layers.Dense(10, activation=\"softmax\"),\n",
        "])\n",
        "model.compile(optimizer=\"rmsprop\",\n",
        "              loss=\"sparse_categorical_crossentropy\",\n",
        "              metrics=[\"accuracy\"])\n",
        "history_large_model = model.fit(\n",
        "    train_images, train_labels,\n",
        "    epochs=20,\n",
        "    batch_size=128,\n",
        "    validation_split=0.2)"
      ]
    },
    {
      "cell_type": "markdown",
      "metadata": {
        "id": "lw6JEaQDhWDe"
      },
      "source": [
        "## Improving generalization"
      ]
    },
    {
      "cell_type": "markdown",
      "metadata": {
        "id": "OUqqZwL_hWDf"
      },
      "source": [
        "### Dataset curation"
      ]
    },
    {
      "cell_type": "markdown",
      "metadata": {
        "id": "PffSapWghWDf"
      },
      "source": [
        "### Feature engineering"
      ]
    },
    {
      "cell_type": "markdown",
      "metadata": {
        "id": "6IwvdyZphWDf"
      },
      "source": [
        "### Using early stopping"
      ]
    },
    {
      "cell_type": "markdown",
      "metadata": {
        "id": "GBOuZ6UchWDf"
      },
      "source": [
        "### Regularizing your model"
      ]
    },
    {
      "cell_type": "markdown",
      "metadata": {
        "id": "uRKb4CGnhWDf"
      },
      "source": [
        "#### Reducing the network's size"
      ]
    },
    {
      "cell_type": "markdown",
      "metadata": {
        "id": "9BJ9gKothWDf"
      },
      "source": [
        "**Original model**"
      ]
    },
    {
      "cell_type": "code",
      "execution_count": 10,
      "metadata": {
        "id": "Kve34tfjhWDf",
        "colab": {
          "base_uri": "https://localhost:8080/"
        },
        "outputId": "df0eac3b-6029-4d1f-a6b8-33d2e34015de"
      },
      "outputs": [
        {
          "output_type": "stream",
          "name": "stdout",
          "text": [
            "Downloading data from https://storage.googleapis.com/tensorflow/tf-keras-datasets/imdb.npz\n",
            "17465344/17464789 [==============================] - 0s 0us/step\n",
            "17473536/17464789 [==============================] - 0s 0us/step\n",
            "Epoch 1/20\n",
            "30/30 [==============================] - 2s 34ms/step - loss: 0.5285 - accuracy: 0.7806 - val_loss: 0.3923 - val_accuracy: 0.8777\n",
            "Epoch 2/20\n",
            "30/30 [==============================] - 1s 19ms/step - loss: 0.3148 - accuracy: 0.9003 - val_loss: 0.3782 - val_accuracy: 0.8401\n",
            "Epoch 3/20\n",
            "30/30 [==============================] - 1s 19ms/step - loss: 0.2317 - accuracy: 0.9269 - val_loss: 0.3073 - val_accuracy: 0.8760\n",
            "Epoch 4/20\n",
            "30/30 [==============================] - 1s 19ms/step - loss: 0.1800 - accuracy: 0.9435 - val_loss: 0.2843 - val_accuracy: 0.8869\n",
            "Epoch 5/20\n",
            "30/30 [==============================] - 1s 20ms/step - loss: 0.1440 - accuracy: 0.9542 - val_loss: 0.2867 - val_accuracy: 0.8873\n",
            "Epoch 6/20\n",
            "30/30 [==============================] - 1s 19ms/step - loss: 0.1204 - accuracy: 0.9633 - val_loss: 0.2957 - val_accuracy: 0.8868\n",
            "Epoch 7/20\n",
            "30/30 [==============================] - 1s 19ms/step - loss: 0.0999 - accuracy: 0.9713 - val_loss: 0.3203 - val_accuracy: 0.8817\n",
            "Epoch 8/20\n",
            "30/30 [==============================] - 1s 19ms/step - loss: 0.0838 - accuracy: 0.9764 - val_loss: 0.3355 - val_accuracy: 0.8810\n",
            "Epoch 9/20\n",
            "30/30 [==============================] - 1s 19ms/step - loss: 0.0721 - accuracy: 0.9806 - val_loss: 0.3604 - val_accuracy: 0.8780\n",
            "Epoch 10/20\n",
            "30/30 [==============================] - 1s 19ms/step - loss: 0.0580 - accuracy: 0.9857 - val_loss: 0.3848 - val_accuracy: 0.8769\n",
            "Epoch 11/20\n",
            "30/30 [==============================] - 1s 19ms/step - loss: 0.0499 - accuracy: 0.9868 - val_loss: 0.4097 - val_accuracy: 0.8763\n",
            "Epoch 12/20\n",
            "30/30 [==============================] - 1s 20ms/step - loss: 0.0436 - accuracy: 0.9891 - val_loss: 0.4491 - val_accuracy: 0.8727\n",
            "Epoch 13/20\n",
            "30/30 [==============================] - 1s 19ms/step - loss: 0.0356 - accuracy: 0.9921 - val_loss: 0.4694 - val_accuracy: 0.8726\n",
            "Epoch 14/20\n",
            "30/30 [==============================] - 1s 20ms/step - loss: 0.0292 - accuracy: 0.9930 - val_loss: 0.5126 - val_accuracy: 0.8687\n",
            "Epoch 15/20\n",
            "30/30 [==============================] - 1s 19ms/step - loss: 0.0229 - accuracy: 0.9958 - val_loss: 0.5361 - val_accuracy: 0.8701\n",
            "Epoch 16/20\n",
            "30/30 [==============================] - 1s 19ms/step - loss: 0.0212 - accuracy: 0.9953 - val_loss: 0.5528 - val_accuracy: 0.8678\n",
            "Epoch 17/20\n",
            "30/30 [==============================] - 1s 19ms/step - loss: 0.0159 - accuracy: 0.9976 - val_loss: 0.5847 - val_accuracy: 0.8657\n",
            "Epoch 18/20\n",
            "30/30 [==============================] - 1s 19ms/step - loss: 0.0160 - accuracy: 0.9969 - val_loss: 0.6213 - val_accuracy: 0.8664\n",
            "Epoch 19/20\n",
            "30/30 [==============================] - 1s 20ms/step - loss: 0.0087 - accuracy: 0.9994 - val_loss: 0.6554 - val_accuracy: 0.8650\n",
            "Epoch 20/20\n",
            "30/30 [==============================] - 1s 18ms/step - loss: 0.0122 - accuracy: 0.9979 - val_loss: 0.6872 - val_accuracy: 0.8636\n"
          ]
        }
      ],
      "source": [
        "from tensorflow.keras.datasets import imdb\n",
        "(train_data, train_labels), _ = imdb.load_data(num_words=10000)\n",
        "\n",
        "def vectorize_sequences(sequences, dimension=10000):\n",
        "    results = np.zeros((len(sequences), dimension))\n",
        "    for i, sequence in enumerate(sequences):\n",
        "        results[i, sequence] = 1.\n",
        "    return results\n",
        "train_data = vectorize_sequences(train_data)\n",
        "\n",
        "model = keras.Sequential([\n",
        "    layers.Dense(16, activation=\"relu\"),\n",
        "    layers.Dense(16, activation=\"relu\"),\n",
        "    layers.Dense(1, activation=\"sigmoid\")\n",
        "])\n",
        "model.compile(optimizer=\"rmsprop\",\n",
        "              loss=\"binary_crossentropy\",\n",
        "              metrics=[\"accuracy\"])\n",
        "history_original = model.fit(train_data, train_labels,\n",
        "                             epochs=20, batch_size=512, validation_split=0.4)"
      ]
    },
    {
      "cell_type": "markdown",
      "metadata": {
        "id": "lUwHiPG3hWDg"
      },
      "source": [
        "**Version of the model with lower capacity**"
      ]
    },
    {
      "cell_type": "code",
      "execution_count": 11,
      "metadata": {
        "id": "6GnLQDk-hWDg",
        "colab": {
          "base_uri": "https://localhost:8080/"
        },
        "outputId": "4f991f3a-32b1-4a45-f7d9-a7e085bf2646"
      },
      "outputs": [
        {
          "output_type": "stream",
          "name": "stdout",
          "text": [
            "Epoch 1/20\n",
            "30/30 [==============================] - 1s 33ms/step - loss: 0.6333 - accuracy: 0.6589 - val_loss: 0.5865 - val_accuracy: 0.8336\n",
            "Epoch 2/20\n",
            "30/30 [==============================] - 1s 19ms/step - loss: 0.5405 - accuracy: 0.8069 - val_loss: 0.5330 - val_accuracy: 0.8041\n",
            "Epoch 3/20\n",
            "30/30 [==============================] - 1s 19ms/step - loss: 0.4920 - accuracy: 0.8495 - val_loss: 0.5176 - val_accuracy: 0.7815\n",
            "Epoch 4/20\n",
            "30/30 [==============================] - 1s 19ms/step - loss: 0.4586 - accuracy: 0.8771 - val_loss: 0.4894 - val_accuracy: 0.8537\n",
            "Epoch 5/20\n",
            "30/30 [==============================] - 1s 19ms/step - loss: 0.4323 - accuracy: 0.8998 - val_loss: 0.4792 - val_accuracy: 0.8578\n",
            "Epoch 6/20\n",
            "30/30 [==============================] - 1s 19ms/step - loss: 0.4113 - accuracy: 0.9157 - val_loss: 0.4691 - val_accuracy: 0.8672\n",
            "Epoch 7/20\n",
            "30/30 [==============================] - 1s 19ms/step - loss: 0.3929 - accuracy: 0.9287 - val_loss: 0.4702 - val_accuracy: 0.8558\n",
            "Epoch 8/20\n",
            "30/30 [==============================] - 1s 19ms/step - loss: 0.3768 - accuracy: 0.9377 - val_loss: 0.4586 - val_accuracy: 0.8704\n",
            "Epoch 9/20\n",
            "30/30 [==============================] - 1s 19ms/step - loss: 0.3615 - accuracy: 0.9464 - val_loss: 0.4824 - val_accuracy: 0.8432\n",
            "Epoch 10/20\n",
            "30/30 [==============================] - 1s 19ms/step - loss: 0.3483 - accuracy: 0.9533 - val_loss: 0.4769 - val_accuracy: 0.8505\n",
            "Epoch 11/20\n",
            "30/30 [==============================] - 1s 19ms/step - loss: 0.3361 - accuracy: 0.9590 - val_loss: 0.4645 - val_accuracy: 0.8624\n",
            "Epoch 12/20\n",
            "30/30 [==============================] - 1s 19ms/step - loss: 0.3246 - accuracy: 0.9641 - val_loss: 0.4738 - val_accuracy: 0.8574\n",
            "Epoch 13/20\n",
            "30/30 [==============================] - 1s 19ms/step - loss: 0.3134 - accuracy: 0.9690 - val_loss: 0.4517 - val_accuracy: 0.8716\n",
            "Epoch 14/20\n",
            "30/30 [==============================] - 1s 19ms/step - loss: 0.3033 - accuracy: 0.9733 - val_loss: 0.4554 - val_accuracy: 0.8703\n",
            "Epoch 15/20\n",
            "30/30 [==============================] - 1s 19ms/step - loss: 0.2942 - accuracy: 0.9750 - val_loss: 0.4746 - val_accuracy: 0.8624\n",
            "Epoch 16/20\n",
            "30/30 [==============================] - 1s 18ms/step - loss: 0.2850 - accuracy: 0.9776 - val_loss: 0.4792 - val_accuracy: 0.8613\n",
            "Epoch 17/20\n",
            "30/30 [==============================] - 1s 19ms/step - loss: 0.2762 - accuracy: 0.9803 - val_loss: 0.4782 - val_accuracy: 0.8633\n",
            "Epoch 18/20\n",
            "30/30 [==============================] - 1s 19ms/step - loss: 0.2679 - accuracy: 0.9815 - val_loss: 0.4804 - val_accuracy: 0.8641\n",
            "Epoch 19/20\n",
            "30/30 [==============================] - 1s 19ms/step - loss: 0.2605 - accuracy: 0.9832 - val_loss: 0.5228 - val_accuracy: 0.8511\n",
            "Epoch 20/20\n",
            "30/30 [==============================] - 1s 18ms/step - loss: 0.2526 - accuracy: 0.9847 - val_loss: 0.5257 - val_accuracy: 0.8527\n"
          ]
        }
      ],
      "source": [
        "model = keras.Sequential([\n",
        "    layers.Dense(4, activation=\"relu\"),\n",
        "    layers.Dense(4, activation=\"relu\"),\n",
        "    layers.Dense(1, activation=\"sigmoid\")\n",
        "])\n",
        "model.compile(optimizer=\"rmsprop\",\n",
        "              loss=\"binary_crossentropy\",\n",
        "              metrics=[\"accuracy\"])\n",
        "history_smaller_model = model.fit(\n",
        "    train_data, train_labels,\n",
        "    epochs=20, batch_size=512, validation_split=0.4)"
      ]
    },
    {
      "cell_type": "markdown",
      "metadata": {
        "id": "dSPtiaS0hWDg"
      },
      "source": [
        "**Version of the model with higher capacity**"
      ]
    },
    {
      "cell_type": "code",
      "execution_count": 12,
      "metadata": {
        "id": "aqc2chl6hWDg",
        "colab": {
          "base_uri": "https://localhost:8080/"
        },
        "outputId": "4988cd9c-57a2-475a-cb35-7741a016ae8e"
      },
      "outputs": [
        {
          "output_type": "stream",
          "name": "stdout",
          "text": [
            "Epoch 1/20\n",
            "30/30 [==============================] - 2s 38ms/step - loss: 0.5482 - accuracy: 0.7409 - val_loss: 0.3328 - val_accuracy: 0.8694\n",
            "Epoch 2/20\n",
            "30/30 [==============================] - 1s 24ms/step - loss: 0.2688 - accuracy: 0.8965 - val_loss: 0.2637 - val_accuracy: 0.8929\n",
            "Epoch 3/20\n",
            "30/30 [==============================] - 1s 23ms/step - loss: 0.1525 - accuracy: 0.9443 - val_loss: 0.2920 - val_accuracy: 0.8906\n",
            "Epoch 4/20\n",
            "30/30 [==============================] - 1s 23ms/step - loss: 0.1031 - accuracy: 0.9677 - val_loss: 0.3818 - val_accuracy: 0.8825\n",
            "Epoch 5/20\n",
            "30/30 [==============================] - 1s 23ms/step - loss: 0.1066 - accuracy: 0.9739 - val_loss: 0.3242 - val_accuracy: 0.8888\n",
            "Epoch 6/20\n",
            "30/30 [==============================] - 1s 22ms/step - loss: 0.0065 - accuracy: 0.9993 - val_loss: 0.4684 - val_accuracy: 0.8874\n",
            "Epoch 7/20\n",
            "30/30 [==============================] - 1s 22ms/step - loss: 0.0010 - accuracy: 0.9999 - val_loss: 0.6263 - val_accuracy: 0.8815\n",
            "Epoch 8/20\n",
            "30/30 [==============================] - 1s 22ms/step - loss: 0.2905 - accuracy: 0.9752 - val_loss: 0.5142 - val_accuracy: 0.8787\n",
            "Epoch 9/20\n",
            "30/30 [==============================] - 1s 22ms/step - loss: 0.0012 - accuracy: 0.9999 - val_loss: 0.5523 - val_accuracy: 0.8866\n",
            "Epoch 10/20\n",
            "30/30 [==============================] - 1s 22ms/step - loss: 2.2265e-04 - accuracy: 1.0000 - val_loss: 0.6353 - val_accuracy: 0.8859\n",
            "Epoch 11/20\n",
            "30/30 [==============================] - 1s 22ms/step - loss: 5.9173e-05 - accuracy: 1.0000 - val_loss: 0.7184 - val_accuracy: 0.8861\n",
            "Epoch 12/20\n",
            "30/30 [==============================] - 1s 22ms/step - loss: 1.7168e-05 - accuracy: 1.0000 - val_loss: 0.8023 - val_accuracy: 0.8857\n",
            "Epoch 13/20\n",
            "30/30 [==============================] - 1s 22ms/step - loss: 4.8867e-06 - accuracy: 1.0000 - val_loss: 0.8893 - val_accuracy: 0.8857\n",
            "Epoch 14/20\n",
            "30/30 [==============================] - 1s 22ms/step - loss: 1.5319e-06 - accuracy: 1.0000 - val_loss: 0.9680 - val_accuracy: 0.8859\n",
            "Epoch 15/20\n",
            "30/30 [==============================] - 1s 26ms/step - loss: 5.0193e-07 - accuracy: 1.0000 - val_loss: 1.0466 - val_accuracy: 0.8863\n",
            "Epoch 16/20\n",
            "30/30 [==============================] - 1s 22ms/step - loss: 1.8789e-07 - accuracy: 1.0000 - val_loss: 1.1272 - val_accuracy: 0.8840\n",
            "Epoch 17/20\n",
            "30/30 [==============================] - 1s 22ms/step - loss: 7.2587e-08 - accuracy: 1.0000 - val_loss: 1.1892 - val_accuracy: 0.8838\n",
            "Epoch 18/20\n",
            "30/30 [==============================] - 1s 25ms/step - loss: 3.5341e-08 - accuracy: 1.0000 - val_loss: 1.2280 - val_accuracy: 0.8847\n",
            "Epoch 19/20\n",
            "30/30 [==============================] - 1s 22ms/step - loss: 2.1622e-08 - accuracy: 1.0000 - val_loss: 1.2618 - val_accuracy: 0.8845\n",
            "Epoch 20/20\n",
            "30/30 [==============================] - 1s 22ms/step - loss: 1.5210e-08 - accuracy: 1.0000 - val_loss: 1.2811 - val_accuracy: 0.8841\n"
          ]
        }
      ],
      "source": [
        "model = keras.Sequential([\n",
        "    layers.Dense(512, activation=\"relu\"),\n",
        "    layers.Dense(512, activation=\"relu\"),\n",
        "    layers.Dense(1, activation=\"sigmoid\")\n",
        "])\n",
        "model.compile(optimizer=\"rmsprop\",\n",
        "              loss=\"binary_crossentropy\",\n",
        "              metrics=[\"accuracy\"])\n",
        "history_larger_model = model.fit(\n",
        "    train_data, train_labels,\n",
        "    epochs=20, batch_size=512, validation_split=0.4)"
      ]
    },
    {
      "cell_type": "markdown",
      "metadata": {
        "id": "tJjoUFY3hWDg"
      },
      "source": [
        "#### Adding weight regularization"
      ]
    },
    {
      "cell_type": "markdown",
      "metadata": {
        "id": "SSbfUp-xhWDg"
      },
      "source": [
        "**Adding L2 weight regularization to the model**"
      ]
    },
    {
      "cell_type": "code",
      "execution_count": 13,
      "metadata": {
        "id": "zS5Kg4sxhWDh",
        "colab": {
          "base_uri": "https://localhost:8080/"
        },
        "outputId": "263ed380-9694-424d-ca77-e5035421cae9"
      },
      "outputs": [
        {
          "output_type": "stream",
          "name": "stdout",
          "text": [
            "Epoch 1/20\n",
            "30/30 [==============================] - 2s 34ms/step - loss: 0.6001 - accuracy: 0.7828 - val_loss: 0.4670 - val_accuracy: 0.8692\n",
            "Epoch 2/20\n",
            "30/30 [==============================] - 1s 19ms/step - loss: 0.4037 - accuracy: 0.8965 - val_loss: 0.3905 - val_accuracy: 0.8867\n",
            "Epoch 3/20\n",
            "30/30 [==============================] - 1s 19ms/step - loss: 0.3398 - accuracy: 0.9125 - val_loss: 0.3682 - val_accuracy: 0.8906\n",
            "Epoch 4/20\n",
            "30/30 [==============================] - 1s 20ms/step - loss: 0.3034 - accuracy: 0.9243 - val_loss: 0.3719 - val_accuracy: 0.8817\n",
            "Epoch 5/20\n",
            "30/30 [==============================] - 1s 19ms/step - loss: 0.2912 - accuracy: 0.9273 - val_loss: 0.3813 - val_accuracy: 0.8763\n",
            "Epoch 6/20\n",
            "30/30 [==============================] - 1s 19ms/step - loss: 0.2746 - accuracy: 0.9355 - val_loss: 0.3808 - val_accuracy: 0.8779\n",
            "Epoch 7/20\n",
            "30/30 [==============================] - 1s 20ms/step - loss: 0.2606 - accuracy: 0.9405 - val_loss: 0.3909 - val_accuracy: 0.8762\n",
            "Epoch 8/20\n",
            "30/30 [==============================] - 1s 19ms/step - loss: 0.2550 - accuracy: 0.9424 - val_loss: 0.3852 - val_accuracy: 0.8787\n",
            "Epoch 9/20\n",
            "30/30 [==============================] - 1s 19ms/step - loss: 0.2530 - accuracy: 0.9408 - val_loss: 0.3769 - val_accuracy: 0.8812\n",
            "Epoch 10/20\n",
            "30/30 [==============================] - 1s 19ms/step - loss: 0.2420 - accuracy: 0.9459 - val_loss: 0.3754 - val_accuracy: 0.8823\n",
            "Epoch 11/20\n",
            "30/30 [==============================] - 1s 23ms/step - loss: 0.2413 - accuracy: 0.9462 - val_loss: 0.3947 - val_accuracy: 0.8765\n",
            "Epoch 12/20\n",
            "30/30 [==============================] - 1s 20ms/step - loss: 0.2322 - accuracy: 0.9491 - val_loss: 0.4067 - val_accuracy: 0.8724\n",
            "Epoch 13/20\n",
            "30/30 [==============================] - 1s 19ms/step - loss: 0.2326 - accuracy: 0.9473 - val_loss: 0.3967 - val_accuracy: 0.8762\n",
            "Epoch 14/20\n",
            "30/30 [==============================] - 1s 19ms/step - loss: 0.2260 - accuracy: 0.9501 - val_loss: 0.3939 - val_accuracy: 0.8774\n",
            "Epoch 15/20\n",
            "30/30 [==============================] - 1s 19ms/step - loss: 0.2260 - accuracy: 0.9495 - val_loss: 0.3978 - val_accuracy: 0.8786\n",
            "Epoch 16/20\n",
            "30/30 [==============================] - 1s 20ms/step - loss: 0.2192 - accuracy: 0.9544 - val_loss: 0.4040 - val_accuracy: 0.8777\n",
            "Epoch 17/20\n",
            "30/30 [==============================] - 1s 19ms/step - loss: 0.2161 - accuracy: 0.9549 - val_loss: 0.4441 - val_accuracy: 0.8660\n",
            "Epoch 18/20\n",
            "30/30 [==============================] - 1s 19ms/step - loss: 0.2120 - accuracy: 0.9557 - val_loss: 0.4234 - val_accuracy: 0.8738\n",
            "Epoch 19/20\n",
            "30/30 [==============================] - 1s 19ms/step - loss: 0.2178 - accuracy: 0.9526 - val_loss: 0.4159 - val_accuracy: 0.8754\n",
            "Epoch 20/20\n",
            "30/30 [==============================] - 1s 19ms/step - loss: 0.2058 - accuracy: 0.9585 - val_loss: 0.4333 - val_accuracy: 0.8718\n"
          ]
        }
      ],
      "source": [
        "from tensorflow.keras import regularizers\n",
        "model = keras.Sequential([\n",
        "    layers.Dense(16,\n",
        "                 kernel_regularizer=regularizers.l2(0.002),\n",
        "                 activation=\"relu\"),\n",
        "    layers.Dense(16,\n",
        "                 kernel_regularizer=regularizers.l2(0.002),\n",
        "                 activation=\"relu\"),\n",
        "    layers.Dense(1, activation=\"sigmoid\")\n",
        "])\n",
        "model.compile(optimizer=\"rmsprop\",\n",
        "              loss=\"binary_crossentropy\",\n",
        "              metrics=[\"accuracy\"])\n",
        "history_l2_reg = model.fit(\n",
        "    train_data, train_labels,\n",
        "    epochs=20, batch_size=512, validation_split=0.4)"
      ]
    },
    {
      "cell_type": "markdown",
      "metadata": {
        "id": "vXNMueMbhWDh"
      },
      "source": [
        "**Different weight regularizers available in Keras**"
      ]
    },
    {
      "cell_type": "code",
      "execution_count": 14,
      "metadata": {
        "id": "GcPVqBtVhWDh",
        "colab": {
          "base_uri": "https://localhost:8080/"
        },
        "outputId": "ebf13e53-4359-4e4b-a46e-bd76c46d2711"
      },
      "outputs": [
        {
          "output_type": "execute_result",
          "data": {
            "text/plain": [
              "<keras.regularizers.L1L2 at 0x7f0076307ad0>"
            ]
          },
          "metadata": {},
          "execution_count": 14
        }
      ],
      "source": [
        "from tensorflow.keras import regularizers\n",
        "regularizers.l1(0.001)\n",
        "regularizers.l1_l2(l1=0.001, l2=0.001)"
      ]
    },
    {
      "cell_type": "markdown",
      "metadata": {
        "id": "XvGAcwl0hWDh"
      },
      "source": [
        "#### Adding dropout"
      ]
    },
    {
      "cell_type": "markdown",
      "metadata": {
        "id": "Z4fIPGQ9hWDh"
      },
      "source": [
        "**Adding dropout to the IMDB model**"
      ]
    },
    {
      "cell_type": "code",
      "execution_count": 15,
      "metadata": {
        "id": "Nf03aKUrhWDh",
        "colab": {
          "base_uri": "https://localhost:8080/"
        },
        "outputId": "c0642e1f-d47b-43cd-dad3-3ce0b35fd386"
      },
      "outputs": [
        {
          "output_type": "stream",
          "name": "stdout",
          "text": [
            "Epoch 1/20\n",
            "30/30 [==============================] - 2s 46ms/step - loss: 0.6372 - accuracy: 0.6436 - val_loss: 0.5373 - val_accuracy: 0.8453\n",
            "Epoch 2/20\n",
            "30/30 [==============================] - 1s 23ms/step - loss: 0.5197 - accuracy: 0.7643 - val_loss: 0.4150 - val_accuracy: 0.8692\n",
            "Epoch 3/20\n",
            "30/30 [==============================] - 1s 19ms/step - loss: 0.4369 - accuracy: 0.8155 - val_loss: 0.3665 - val_accuracy: 0.8637\n",
            "Epoch 4/20\n",
            "30/30 [==============================] - 1s 19ms/step - loss: 0.3716 - accuracy: 0.8521 - val_loss: 0.3098 - val_accuracy: 0.8882\n",
            "Epoch 5/20\n",
            "30/30 [==============================] - 1s 19ms/step - loss: 0.3214 - accuracy: 0.8815 - val_loss: 0.2856 - val_accuracy: 0.8916\n",
            "Epoch 6/20\n",
            "30/30 [==============================] - 1s 20ms/step - loss: 0.2827 - accuracy: 0.9021 - val_loss: 0.2718 - val_accuracy: 0.8933\n",
            "Epoch 7/20\n",
            "30/30 [==============================] - 1s 20ms/step - loss: 0.2488 - accuracy: 0.9173 - val_loss: 0.2767 - val_accuracy: 0.8877\n",
            "Epoch 8/20\n",
            "30/30 [==============================] - 1s 19ms/step - loss: 0.2196 - accuracy: 0.9299 - val_loss: 0.2761 - val_accuracy: 0.8931\n",
            "Epoch 9/20\n",
            "30/30 [==============================] - 1s 19ms/step - loss: 0.1965 - accuracy: 0.9370 - val_loss: 0.2921 - val_accuracy: 0.8914\n",
            "Epoch 10/20\n",
            "30/30 [==============================] - 1s 23ms/step - loss: 0.1744 - accuracy: 0.9472 - val_loss: 0.3091 - val_accuracy: 0.8889\n",
            "Epoch 11/20\n",
            "30/30 [==============================] - 1s 20ms/step - loss: 0.1522 - accuracy: 0.9519 - val_loss: 0.3313 - val_accuracy: 0.8882\n",
            "Epoch 12/20\n",
            "30/30 [==============================] - 1s 19ms/step - loss: 0.1370 - accuracy: 0.9577 - val_loss: 0.3680 - val_accuracy: 0.8848\n",
            "Epoch 13/20\n",
            "30/30 [==============================] - 1s 19ms/step - loss: 0.1273 - accuracy: 0.9598 - val_loss: 0.3767 - val_accuracy: 0.8903\n",
            "Epoch 14/20\n",
            "30/30 [==============================] - 1s 20ms/step - loss: 0.1168 - accuracy: 0.9641 - val_loss: 0.3864 - val_accuracy: 0.8889\n",
            "Epoch 15/20\n",
            "30/30 [==============================] - 1s 20ms/step - loss: 0.1087 - accuracy: 0.9671 - val_loss: 0.3958 - val_accuracy: 0.8884\n",
            "Epoch 16/20\n",
            "30/30 [==============================] - 1s 19ms/step - loss: 0.0983 - accuracy: 0.9713 - val_loss: 0.4364 - val_accuracy: 0.8879\n",
            "Epoch 17/20\n",
            "30/30 [==============================] - 1s 19ms/step - loss: 0.0928 - accuracy: 0.9731 - val_loss: 0.4572 - val_accuracy: 0.8874\n",
            "Epoch 18/20\n",
            "30/30 [==============================] - 1s 20ms/step - loss: 0.0908 - accuracy: 0.9719 - val_loss: 0.5342 - val_accuracy: 0.8878\n",
            "Epoch 19/20\n",
            "30/30 [==============================] - 1s 19ms/step - loss: 0.0858 - accuracy: 0.9746 - val_loss: 0.5029 - val_accuracy: 0.8847\n",
            "Epoch 20/20\n",
            "30/30 [==============================] - 1s 19ms/step - loss: 0.0778 - accuracy: 0.9757 - val_loss: 0.5580 - val_accuracy: 0.8865\n"
          ]
        }
      ],
      "source": [
        "model = keras.Sequential([\n",
        "    layers.Dense(16, activation=\"relu\"),\n",
        "    layers.Dropout(0.5),\n",
        "    layers.Dense(16, activation=\"relu\"),\n",
        "    layers.Dropout(0.5),\n",
        "    layers.Dense(1, activation=\"sigmoid\")\n",
        "])\n",
        "model.compile(optimizer=\"rmsprop\",\n",
        "              loss=\"binary_crossentropy\",\n",
        "              metrics=[\"accuracy\"])\n",
        "history_dropout = model.fit(\n",
        "    train_data, train_labels,\n",
        "    epochs=20, batch_size=512, validation_split=0.4)"
      ]
    },
    {
      "cell_type": "markdown",
      "metadata": {
        "id": "EphckwiihWDi"
      },
      "source": [
        "## Summary"
      ]
    }
  ],
  "metadata": {
    "colab": {
      "collapsed_sections": [],
      "name": "chapter05_fundamentals-of-ml.i",
      "provenance": [],
      "toc_visible": true,
      "include_colab_link": true
    },
    "kernelspec": {
      "display_name": "Python 3",
      "language": "python",
      "name": "python3"
    },
    "language_info": {
      "codemirror_mode": {
        "name": "ipython",
        "version": 3
      },
      "file_extension": ".py",
      "mimetype": "text/x-python",
      "name": "python",
      "nbconvert_exporter": "python",
      "pygments_lexer": "ipython3",
      "version": "3.7.0"
    },
    "accelerator": "GPU"
  },
  "nbformat": 4,
  "nbformat_minor": 0
}